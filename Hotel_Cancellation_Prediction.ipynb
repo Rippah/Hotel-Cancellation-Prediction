{
  "cells": [
    {
      "attachments": {},
      "cell_type": "markdown",
      "metadata": {
        "id": "HKjwL3o6_-ZP"
      },
      "source": [
        "# **Hotel Cancellation Prediction**\n",
        "\n"
      ]
    },
    {
      "attachments": {},
      "cell_type": "markdown",
      "metadata": {
        "id": "-R3wTGZaAKJD"
      },
      "source": [
        "**1. Import**"
      ]
    },
    {
      "cell_type": "code",
      "execution_count": 1,
      "metadata": {
        "id": "5EIb65KM_zD8"
      },
      "outputs": [],
      "source": [
        "import pandas as pd\n",
        "import numpy as np"
      ]
    },
    {
      "attachments": {},
      "cell_type": "markdown",
      "metadata": {
        "id": "uwM8jJwgASk7"
      },
      "source": [
        "**2. Dataset**"
      ]
    },
    {
      "cell_type": "code",
      "execution_count": 2,
      "metadata": {
        "colab": {
          "base_uri": "https://localhost:8080/",
          "height": 310
        },
        "id": "P7TdQFEmAUQG",
        "outputId": "fe456888-19d4-43d6-ac39-0bf3e43eb69a"
      },
      "outputs": [
        {
          "data": {
            "text/html": [
              "<div>\n",
              "<style scoped>\n",
              "    .dataframe tbody tr th:only-of-type {\n",
              "        vertical-align: middle;\n",
              "    }\n",
              "\n",
              "    .dataframe tbody tr th {\n",
              "        vertical-align: top;\n",
              "    }\n",
              "\n",
              "    .dataframe thead th {\n",
              "        text-align: right;\n",
              "    }\n",
              "</style>\n",
              "<table border=\"1\" class=\"dataframe\">\n",
              "  <thead>\n",
              "    <tr style=\"text-align: right;\">\n",
              "      <th></th>\n",
              "      <th>Booking_ID</th>\n",
              "      <th>number of adults</th>\n",
              "      <th>number of children</th>\n",
              "      <th>number of weekend nights</th>\n",
              "      <th>number of week nights</th>\n",
              "      <th>type of meal</th>\n",
              "      <th>car parking space</th>\n",
              "      <th>room type</th>\n",
              "      <th>lead time</th>\n",
              "      <th>market segment type</th>\n",
              "      <th>repeated</th>\n",
              "      <th>P-C</th>\n",
              "      <th>P-not-C</th>\n",
              "      <th>average price</th>\n",
              "      <th>special requests</th>\n",
              "      <th>date of reservation</th>\n",
              "      <th>booking status</th>\n",
              "    </tr>\n",
              "  </thead>\n",
              "  <tbody>\n",
              "    <tr>\n",
              "      <th>0</th>\n",
              "      <td>INN00001</td>\n",
              "      <td>1</td>\n",
              "      <td>1</td>\n",
              "      <td>2</td>\n",
              "      <td>5</td>\n",
              "      <td>Meal Plan 1</td>\n",
              "      <td>0</td>\n",
              "      <td>Room_Type 1</td>\n",
              "      <td>224</td>\n",
              "      <td>Offline</td>\n",
              "      <td>0</td>\n",
              "      <td>0</td>\n",
              "      <td>0</td>\n",
              "      <td>88.00</td>\n",
              "      <td>0</td>\n",
              "      <td>10/2/2015</td>\n",
              "      <td>Not_Canceled</td>\n",
              "    </tr>\n",
              "    <tr>\n",
              "      <th>1</th>\n",
              "      <td>INN00002</td>\n",
              "      <td>1</td>\n",
              "      <td>0</td>\n",
              "      <td>1</td>\n",
              "      <td>3</td>\n",
              "      <td>Not Selected</td>\n",
              "      <td>0</td>\n",
              "      <td>Room_Type 1</td>\n",
              "      <td>5</td>\n",
              "      <td>Online</td>\n",
              "      <td>0</td>\n",
              "      <td>0</td>\n",
              "      <td>0</td>\n",
              "      <td>106.68</td>\n",
              "      <td>1</td>\n",
              "      <td>11/6/2018</td>\n",
              "      <td>Not_Canceled</td>\n",
              "    </tr>\n",
              "    <tr>\n",
              "      <th>2</th>\n",
              "      <td>INN00003</td>\n",
              "      <td>2</td>\n",
              "      <td>1</td>\n",
              "      <td>1</td>\n",
              "      <td>3</td>\n",
              "      <td>Meal Plan 1</td>\n",
              "      <td>0</td>\n",
              "      <td>Room_Type 1</td>\n",
              "      <td>1</td>\n",
              "      <td>Online</td>\n",
              "      <td>0</td>\n",
              "      <td>0</td>\n",
              "      <td>0</td>\n",
              "      <td>50.00</td>\n",
              "      <td>0</td>\n",
              "      <td>2/28/2018</td>\n",
              "      <td>Canceled</td>\n",
              "    </tr>\n",
              "    <tr>\n",
              "      <th>3</th>\n",
              "      <td>INN00004</td>\n",
              "      <td>1</td>\n",
              "      <td>0</td>\n",
              "      <td>0</td>\n",
              "      <td>2</td>\n",
              "      <td>Meal Plan 1</td>\n",
              "      <td>0</td>\n",
              "      <td>Room_Type 1</td>\n",
              "      <td>211</td>\n",
              "      <td>Online</td>\n",
              "      <td>0</td>\n",
              "      <td>0</td>\n",
              "      <td>0</td>\n",
              "      <td>100.00</td>\n",
              "      <td>1</td>\n",
              "      <td>5/20/2017</td>\n",
              "      <td>Canceled</td>\n",
              "    </tr>\n",
              "    <tr>\n",
              "      <th>4</th>\n",
              "      <td>INN00005</td>\n",
              "      <td>1</td>\n",
              "      <td>0</td>\n",
              "      <td>1</td>\n",
              "      <td>2</td>\n",
              "      <td>Not Selected</td>\n",
              "      <td>0</td>\n",
              "      <td>Room_Type 1</td>\n",
              "      <td>48</td>\n",
              "      <td>Online</td>\n",
              "      <td>0</td>\n",
              "      <td>0</td>\n",
              "      <td>0</td>\n",
              "      <td>77.00</td>\n",
              "      <td>0</td>\n",
              "      <td>4/11/2018</td>\n",
              "      <td>Canceled</td>\n",
              "    </tr>\n",
              "  </tbody>\n",
              "</table>\n",
              "</div>"
            ],
            "text/plain": [
              "  Booking_ID  number of adults  number of children  number of weekend nights  \\\n",
              "0   INN00001                 1                   1                         2   \n",
              "1   INN00002                 1                   0                         1   \n",
              "2   INN00003                 2                   1                         1   \n",
              "3   INN00004                 1                   0                         0   \n",
              "4   INN00005                 1                   0                         1   \n",
              "\n",
              "   number of week nights  type of meal  car parking space    room type  \\\n",
              "0                      5   Meal Plan 1                  0  Room_Type 1   \n",
              "1                      3  Not Selected                  0  Room_Type 1   \n",
              "2                      3   Meal Plan 1                  0  Room_Type 1   \n",
              "3                      2   Meal Plan 1                  0  Room_Type 1   \n",
              "4                      2  Not Selected                  0  Room_Type 1   \n",
              "\n",
              "   lead time market segment type  repeated  P-C  P-not-C  average price  \\\n",
              "0        224             Offline         0    0        0          88.00   \n",
              "1          5              Online         0    0        0         106.68   \n",
              "2          1              Online         0    0        0          50.00   \n",
              "3        211              Online         0    0        0         100.00   \n",
              "4         48              Online         0    0        0          77.00   \n",
              "\n",
              "   special requests date of reservation booking status  \n",
              "0                 0           10/2/2015   Not_Canceled  \n",
              "1                 1           11/6/2018   Not_Canceled  \n",
              "2                 0           2/28/2018       Canceled  \n",
              "3                 1           5/20/2017       Canceled  \n",
              "4                 0           4/11/2018       Canceled  "
            ]
          },
          "execution_count": 2,
          "metadata": {},
          "output_type": "execute_result"
        }
      ],
      "source": [
        "data = pd.read_csv('booking.csv')\n",
        "\n",
        "data.head()"
      ]
    },
    {
      "attachments": {},
      "cell_type": "markdown",
      "metadata": {
        "id": "_XQ4SWYrAjmF"
      },
      "source": [
        "**3. Drop Useless Data**"
      ]
    },
    {
      "cell_type": "code",
      "execution_count": 3,
      "metadata": {
        "id": "lPYvriONAqxs"
      },
      "outputs": [],
      "source": [
        "data.drop(['Booking_ID', 'P-not-C'], axis=1, inplace=True)\n"
      ]
    },
    {
      "attachments": {},
      "cell_type": "markdown",
      "metadata": {
        "id": "hZ-1EGETA8uY"
      },
      "source": [
        "**4. Set X & Y**"
      ]
    },
    {
      "cell_type": "code",
      "execution_count": 4,
      "metadata": {
        "id": "0qrM4uiFBDTS"
      },
      "outputs": [],
      "source": [
        "# Convert 'date of reservation' to datetime\n",
        "data['date of reservation'] = pd.to_datetime(data['date of reservation'],errors='coerce')\n",
        "\n",
        "# Create new features based on 'date of reservation'\n",
        "data['reservation_year'] = data['date of reservation'].dt.year\n",
        "data['reservation_month'] = data['date of reservation'].dt.month\n",
        "data['reservation_day'] = data['date of reservation'].dt.day\n",
        "data['reservation_dayofweek'] = data['date of reservation'].dt.dayofweek\n",
        "\n",
        "# Now drop the original 'date of reservation' column\n",
        "data = data.drop(['date of reservation'], axis=1)\n",
        "\n",
        "data.dropna(subset=['reservation_year', 'reservation_month', 'reservation_day', 'reservation_dayofweek'], inplace=True)\n",
        "\n",
        "# Now you can create your dummy variables\n",
        "X = data.drop(['booking status'], axis=1)\n",
        "y = data['booking status']\n",
        "X = pd.get_dummies(X)"
      ]
    },
    {
      "attachments": {},
      "cell_type": "markdown",
      "metadata": {
        "id": "h-3sOkIfBi4n"
      },
      "source": [
        "**5. Train, Validation and Test Split**"
      ]
    },
    {
      "cell_type": "code",
      "execution_count": 5,
      "metadata": {
        "colab": {
          "base_uri": "https://localhost:8080/"
        },
        "id": "NTQPI9ZvBl8_",
        "outputId": "2e493462-803c-40fa-ad09-20dde2e3d11a"
      },
      "outputs": [
        {
          "name": "stdout",
          "output_type": "stream",
          "text": [
            "29360\n",
            "29360\n"
          ]
        }
      ],
      "source": [
        "from sklearn.model_selection import train_test_split\n",
        "\n",
        "X_train, X_test, y_train, y_test = train_test_split(X, y, test_size=0.1, random_state=42)\n",
        "X_train, X_valid, y_train, y_valid = train_test_split(X_train, y_train, test_size=0.1, random_state=42)\n",
        "\n",
        "print(X_train.shape[0])\n",
        "print(len(y_train))"
      ]
    },
    {
      "attachments": {},
      "cell_type": "markdown",
      "metadata": {
        "id": "hUIxRbt1D4vs"
      },
      "source": [
        "**6. Standardize 'Average Price'**"
      ]
    },
    {
      "cell_type": "code",
      "execution_count": 6,
      "metadata": {
        "colab": {
          "base_uri": "https://localhost:8080/"
        },
        "id": "AycWccw9D8vV",
        "outputId": "88cb9892-cc9c-4d57-975a-3581ecc4fa87"
      },
      "outputs": [
        {
          "name": "stdout",
          "output_type": "stream",
          "text": [
            "   average price  number of adults  number of children  \\\n",
            "0      -0.805801                 2                   0   \n",
            "1      -0.200849                 2                   0   \n",
            "2      -1.033012                 1                   0   \n",
            "3      -0.712076                 2                   0   \n",
            "4      -0.386879                 2                   0   \n",
            "\n",
            "   number of weekend nights  number of week nights  car parking space  \\\n",
            "0                         0                      3                  0   \n",
            "1                         1                      1                  0   \n",
            "2                         2                      0                  1   \n",
            "3                         2                      0                  0   \n",
            "4                         1                      2                  0   \n",
            "\n",
            "   lead time  repeated  P-C  special requests  ...  room type_Room_Type 3  \\\n",
            "0        146         0    0                 0  ...                  False   \n",
            "1         57         0    0                 0  ...                  False   \n",
            "2          3         1    0                 1  ...                  False   \n",
            "3         31         0    0                 0  ...                  False   \n",
            "4        147         0    0                 2  ...                  False   \n",
            "\n",
            "   room type_Room_Type 4  room type_Room_Type 5  room type_Room_Type 6  \\\n",
            "0                  False                  False                  False   \n",
            "1                  False                  False                  False   \n",
            "2                  False                  False                  False   \n",
            "3                  False                  False                  False   \n",
            "4                  False                  False                  False   \n",
            "\n",
            "   room type_Room_Type 7  market segment type_Aviation  \\\n",
            "0                  False                         False   \n",
            "1                  False                         False   \n",
            "2                  False                         False   \n",
            "3                  False                         False   \n",
            "4                  False                         False   \n",
            "\n",
            "   market segment type_Complementary  market segment type_Corporate  \\\n",
            "0                              False                          False   \n",
            "1                              False                          False   \n",
            "2                              False                           True   \n",
            "3                              False                          False   \n",
            "4                              False                          False   \n",
            "\n",
            "   market segment type_Offline  market segment type_Online  \n",
            "0                         True                       False  \n",
            "1                        False                        True  \n",
            "2                        False                       False  \n",
            "3                        False                        True  \n",
            "4                         True                       False  \n",
            "\n",
            "[5 rows x 30 columns]\n",
            "   average price  number of adults  number of children  \\\n",
            "0      -0.520934                 2                   2   \n",
            "1      -0.352797                 2                   0   \n",
            "2      -0.216754                 1                   0   \n",
            "3       1.588444                 3                   0   \n",
            "4       0.472266                 1                   0   \n",
            "\n",
            "   number of weekend nights  number of week nights  car parking space  \\\n",
            "0                         0                      3                  0   \n",
            "1                         3                      8                  0   \n",
            "2                         2                      8                  0   \n",
            "3                         0                      3                  0   \n",
            "4                         1                      0                  0   \n",
            "\n",
            "   lead time  repeated  P-C  special requests  ...  room type_Room_Type 3  \\\n",
            "0          2         0    0                 1  ...                  False   \n",
            "1        204         0    0                 1  ...                  False   \n",
            "2         45         0    0                 0  ...                  False   \n",
            "3        198         0    0                 1  ...                  False   \n",
            "4         76         0    0                 0  ...                  False   \n",
            "\n",
            "   room type_Room_Type 4  room type_Room_Type 5  room type_Room_Type 6  \\\n",
            "0                  False                  False                  False   \n",
            "1                  False                  False                  False   \n",
            "2                  False                  False                  False   \n",
            "3                   True                  False                  False   \n",
            "4                  False                  False                  False   \n",
            "\n",
            "   room type_Room_Type 7  market segment type_Aviation  \\\n",
            "0                  False                         False   \n",
            "1                  False                         False   \n",
            "2                  False                         False   \n",
            "3                  False                         False   \n",
            "4                  False                         False   \n",
            "\n",
            "   market segment type_Complementary  market segment type_Corporate  \\\n",
            "0                              False                          False   \n",
            "1                              False                          False   \n",
            "2                              False                          False   \n",
            "3                              False                          False   \n",
            "4                              False                          False   \n",
            "\n",
            "   market segment type_Offline  market segment type_Online  \n",
            "0                        False                        True  \n",
            "1                        False                        True  \n",
            "2                        False                        True  \n",
            "3                        False                        True  \n",
            "4                         True                       False  \n",
            "\n",
            "[5 rows x 30 columns]\n"
          ]
        }
      ],
      "source": [
        "from sklearn.preprocessing import StandardScaler\n",
        "\n",
        "# Inicijalizacija StandardScaler-a\n",
        "s = StandardScaler()\n",
        "\n",
        "# Standardizacija 'average price' kolone na trening setu\n",
        "s.fit(X_train[['average price']])\n",
        "\n",
        "# Transformacija 'average price' kolone na trening i validacionom setu\n",
        "x_train_std = s.transform(X_train[['average price']])\n",
        "x_valid_std = s.transform(X_valid[['average price']])\n",
        "\n",
        "# Kreiranje DataFrame-ova iz standardizovanih podataka\n",
        "x_train_std = pd.DataFrame(x_train_std, columns=['average price'])\n",
        "x_valid_std = pd.DataFrame(x_valid_std, columns=['average price'])\n",
        "\n",
        "# Izbacivanje kolone 'average price' iz x_train_std i x_valid_std\n",
        "X_train = X_train.drop(columns=['average price'])\n",
        "X_valid = X_valid.drop(columns=['average price'])\n",
        "\n",
        "# Resetovanje indeksa DataFrame-ova pre konkatenacije\n",
        "X_train.reset_index(drop=True, inplace=True)\n",
        "X_valid.reset_index(drop=True, inplace=True)\n",
        "x_train_std.reset_index(drop=True, inplace=True)\n",
        "x_valid_std.reset_index(drop=True, inplace=True)\n",
        "\n",
        "# Konkatenacija standardizovanih podataka sa ostatkom podataka\n",
        "X_train = pd.concat([x_train_std, X_train], axis=1)\n",
        "X_valid = pd.concat([x_valid_std, X_valid], axis=1)\n",
        "\n",
        "# Ispis prvih nekoliko redova konkateniranih DataFrame-ova\n",
        "print(X_train.head())\n",
        "print(X_valid.head())"
      ]
    },
    {
      "attachments": {},
      "cell_type": "markdown",
      "metadata": {
        "id": "EfR3w4d9KwZ0"
      },
      "source": [
        "**7. K-Nearest Neighbors**"
      ]
    },
    {
      "cell_type": "code",
      "execution_count": 31,
      "metadata": {
        "id": "0RXzRiiIK1CI"
      },
      "outputs": [],
      "source": [
        "# from sklearn.neighbors import KNeighborsClassifier\n",
        "# from sklearn.model_selection import GridSearchCV\n",
        "\n",
        "# # Definišemo listu parametara koje želimo da ispitamo\n",
        "# parameters = {'n_neighbors':[3,5,7,9,11], 'metric':('hamming', 'euclidean', 'manhattan')}\n",
        "\n",
        "# # Inicijalizujemo KNN klasifikator\n",
        "# knn = KNeighborsClassifier()\n",
        "\n",
        "# # Inicijalizujemo GridSearchCV sa KNN klasifikatorom i parametrima\n",
        "# grid_search = GridSearchCV(knn, parameters, cv=5, scoring='accuracy', verbose=3)\n",
        "\n",
        "# # Fitujemo GridSearchCV na podacima\n",
        "# grid_search.fit(X_train, y_train)\n",
        "\n",
        "# # Najbolji model i najbolji parametri\n",
        "# best_knn_model = grid_search.best_estimator_\n",
        "# best_params = grid_search.best_params_\n",
        "# best_score = grid_search.best_score_\n",
        "\n",
        "# print(\"Najbolji model:\", best_knn_model)\n",
        "# print(\"Najbolji parametri:\", best_params)\n",
        "# print(\"Najbolji rezultat:\", best_score)\n",
        "\n",
        "\n",
        "# # Najbolji model: KNeighborsClassifier(metric='hamming', n_neighbors=11)\n",
        "# # Najbolji parametri: {'metric': 'hamming', 'n_neighbors': 11}\n",
        "# # Najbolji rezultat: 0.8198569482288829"
      ]
    },
    {
      "attachments": {},
      "cell_type": "markdown",
      "metadata": {
        "id": "R-VGaQeYTXoU"
      },
      "source": [
        "**8. Logistic Regression**"
      ]
    },
    {
      "cell_type": "code",
      "execution_count": 7,
      "metadata": {
        "colab": {
          "base_uri": "https://localhost:8080/"
        },
        "id": "BtVar39uTcLx",
        "outputId": "47498cba-809a-4d46-a2da-9a3bb1048875"
      },
      "outputs": [],
      "source": [
        "from sklearn.linear_model import LogisticRegression\n",
        "from sklearn.model_selection import GridSearchCV\n",
        "\n",
        "# Definišemo listu parametara koje želimo da ispitamo\n",
        "parameters = [{'penalty':['l1','l2']},\n",
        "              {'C':[0.01, 0.1, 1, 10, 100, 1000]}]\n",
        "\n",
        "# Inicijalizujemo logistički regresor\n",
        "logistic_regression = LogisticRegression(max_iter=10000)\n",
        "\n",
        "# Inicijalizujemo GridSearchCV sa logističkim regresorom i parametrima\n",
        "grid_search = GridSearchCV(estimator = logistic_regression, param_grid = parameters, scoring = 'accuracy', cv = 5, verbose=0)\n",
        "\n",
        "# Fitujemo GridSearchCV na podacima\n",
        "grid_search.fit(X_train, y_train)\n",
        "\n",
        "# Najbolji model i najbolji parametri\n",
        "best_logistic_model = grid_search.best_estimator_\n",
        "best_params = grid_search.best_params_\n",
        "best_score = grid_search.best_score_\n",
        "\n",
        "print(\"Najbolji model:\", best_logistic_model)\n",
        "print(\"Najbolji parametri:\", best_params)\n",
        "print(\"Najbolji rezultat:\", best_score)\n",
        "\n",
        "# Najbolji model: LogisticRegression(C=10, max_iter=10000)\n",
        "# Najbolji parametri: {'C': 10}\n",
        "# Najbolji rezultat: 0.8013623978201634\n",
        "\n",
        "# from sklearn.svm import SVC\n",
        "# from sklearn.model_selection import GridSearchCV\n",
        "\n",
        "# # Definisanje parametara za grid search sa linearnim kernelom\n",
        "# parameters_linear = {'C': [0.001, 0.01, 0.1, 1, 10, 100],\n",
        "#                      'kernel': ['linear'],\n",
        "#                      'penalty': ['l1', 'l2']}\n",
        "\n",
        "# # Definisanje parametara za grid search sa polinomijalnim kernelom\n",
        "# parameters_poly = {'C': [0.001, 0.01, 0.1, 1, 10, 100],\n",
        "#                    'kernel': ['poly'],\n",
        "#                    'degree': [2, 3, 4],\n",
        "#                    'gamma': ['scale', 'auto'],\n",
        "#                    'coef0': [0.0, 1.0],\n",
        "#                    'penalty': ['l1', 'l2']}\n",
        "\n",
        "# # Definisanje parametara za grid search sa RBF kernelom\n",
        "# parameters_rbf = {'C': [0.001, 0.01, 0.1, 1, 10, 100],\n",
        "#                   'kernel': ['rbf'],\n",
        "#                   'gamma': ['scale', 'auto'],\n",
        "#                   'penalty': ['l1', 'l2']}\n",
        "\n",
        "# # Inicijalizacija SVM klasifikatora sa linearnim kernelom\n",
        "# svm_linear = SVC()\n",
        "\n",
        "# # Inicijalizacija GridSearchCV sa SVM i parametrima za linearni kernel\n",
        "# grid_search_linear = GridSearchCV(svm_linear, parameters_linear, cv=5, scoring='accuracy', verbose=3)\n",
        "\n",
        "# # Fitovanje GridSearchCV na podacima za linearni kernel\n",
        "# grid_search_linear.fit(X_train, y_train)\n",
        "\n",
        "# # Najbolji model i najbolji parametri za linearni kernel\n",
        "# best_svm_linear_model = grid_search_linear.best_estimator_\n",
        "# best_params_linear = grid_search_linear.best_params_\n",
        "# best_score_linear = grid_search_linear.best_score_\n",
        "\n",
        "# print(\"Najbolji model za linearni kernel:\", best_svm_linear_model)\n",
        "# print(\"Najbolji parametri za linearni kernel:\", best_params_linear)\n",
        "# print(\"Najbolji rezultat za linearni kernel:\", best_score_linear)\n",
        "\n",
        "# # Inicijalizacija SVM klasifikatora sa polinomijalnim kernelom\n",
        "# svm_poly = SVC()\n",
        "\n",
        "# # Inicijalizacija GridSearchCV sa SVM i parametrima za polinomijalni kernel\n",
        "# grid_search_poly = GridSearchCV(svm_poly, parameters_poly, cv=5, scoring='accuracy', verbose=3)\n",
        "\n",
        "# # Fitovanje GridSearchCV na podacima za polinomijalni kernel\n",
        "# grid_search_poly.fit(X_train, y_train)\n",
        "\n",
        "# # Najbolji model i najbolji parametri za polinomijalni kernel\n",
        "# best_svm_poly_model = grid_search_poly.best_estimator_\n",
        "# best_params_poly = grid_search_poly.best_params_\n",
        "# best_score_poly = grid_search_poly.best_score_\n",
        "\n",
        "# print(\"Najbolji model za polinomijalni kernel:\", best_svm_poly_model)\n",
        "# print(\"Najbolji parametri za polinomijalni kernel:\", best_params_poly)\n",
        "# print(\"Najbolji rezultat za polinomijalni kernel:\", best_score_poly)\n",
        "\n",
        "# # Inicijalizacija SVM klasifikatora sa RBF kernelom\n",
        "# svm_rbf = SVC()\n",
        "\n",
        "# # Inicijalizacija GridSearchCV sa SVM i parametrima za RBF kernel\n",
        "# grid_search_rbf = GridSearchCV(svm_rbf, parameters_rbf, cv=5, scoring='accuracy', verbose=3)\n",
        "\n",
        "# # Fitovanje GridSearchCV na podacima za RBF kernel\n",
        "# grid_search_rbf.fit(X_train, y_train)\n",
        "\n",
        "# # Najbolji model i najbolji parametri za RBF kernel\n",
        "# best_svm_rbf_model = grid_search_rbf.best_estimator_\n",
        "# best_params_rbf = grid_search_rbf.best_params_\n",
        "# best_score_rbf = grid_search_rbf.best_score_\n",
        "\n",
        "# print(\"Najbolji model za RBF kernel:\", best_svm_rbf_model)\n",
        "# print(\"Najbolji parametri za RBF kernel:\", best_params_rbf)\n",
        "# print(\"Najbolji rezultat za RBF kernel:\", best_score_rbf)\n"
      ]
    },
    {
      "attachments": {},
      "cell_type": "markdown",
      "metadata": {
        "id": "JMLX868UVvfu"
      },
      "source": [
        "**9. Support Vector Machines**"
      ]
    },
    {
      "cell_type": "code",
      "execution_count": null,
      "metadata": {
        "colab": {
          "base_uri": "https://localhost:8080/"
        },
        "id": "FCodal0cVyrT",
        "outputId": "002060d5-1228-4b47-eb85-a453b6712b2b"
      },
      "outputs": [
        {
          "name": "stdout",
          "output_type": "stream",
          "text": [
            "Fitting 5 folds for each of 18 candidates, totalling 90 fits\n",
            "[CV 1/5] END .C=0.1, gamma=scale, kernel=linear;, score=0.798 total time=  48.6s\n",
            "[CV 2/5] END .C=0.1, gamma=scale, kernel=linear;, score=0.804 total time=  36.6s\n"
          ]
        }
      ],
      "source": [
        "from sklearn.svm import SVC\n",
        "from sklearn.model_selection import GridSearchCV\n",
        "\n",
        "# Definišemo listu parametara koje želimo da ispitamo\n",
        "parameters = {'C': [0.1, 1, 10],\n",
        "              'kernel': ['linear', 'rbf', 'poly'],\n",
        "              'gamma': ['scale', 'auto']}\n",
        "\n",
        "# Inicijalizujemo SVM klasifikator\n",
        "svm_classifier = SVC()\n",
        "\n",
        "# Inicijalizujemo GridSearchCV sa SVM klasifikatorom i parametrima\n",
        "grid_search_svm = GridSearchCV(svm_classifier, parameters, cv=5, scoring='accuracy', verbose=3)\n",
        "\n",
        "# Fitujemo GridSearchCV na podacima\n",
        "grid_search_svm.fit(X_train, y_train)\n",
        "\n",
        "# Najbolji model i najbolji parametri\n",
        "best_svm_model = grid_search_svm.best_estimator_\n",
        "best_params_svm = grid_search_svm.best_params_\n",
        "best_score_svm = grid_search_svm.best_score_\n",
        "\n",
        "print(\"Najbolji model SVM:\", best_svm_model)\n",
        "print(\"Najbolji parametri SVM:\", best_params_svm)\n",
        "print(\"Najbolji rezultat SVM:\", best_score_svm)\n"
      ]
    },
    {
      "attachments": {},
      "cell_type": "markdown",
      "metadata": {
        "id": "lq4vUt2JiRfk"
      },
      "source": [
        "**10. Test Best Solutions**"
      ]
    },
    {
      "cell_type": "code",
      "execution_count": null,
      "metadata": {
        "id": "yd6vbCt_iUhk"
      },
      "outputs": [],
      "source": [
        "from sklearn.neighbors import KNeighborsClassifier\n",
        "\n",
        "# Inicijalizacija KNN klasifikatora sa najboljim parametrima\n",
        "best_knn_model = KNeighborsClassifier(n_neighbors=..., metric=...)\n",
        "\n",
        "# Treniranje finalnog KNN modela na trening podacima\n",
        "best_knn_model.fit(X_train, y_train)\n",
        "\n",
        "# Evaluacija performansi finalnog KNN modela na test podacima\n",
        "knn_accuracy = best_knn_model.score(X_test, y_test)\n",
        "print(\"Tačnost finalnog KNN modela:\", knn_accuracy)\n"
      ]
    },
    {
      "cell_type": "code",
      "execution_count": null,
      "metadata": {
        "id": "M6eA2ovLigtN"
      },
      "outputs": [],
      "source": [
        "from sklearn.linear_model import LogisticRegression\n",
        "\n",
        "# Inicijalizacija logističkog regresora sa najboljim parametrima\n",
        "best_logistic_model = LogisticRegression(penalty='...', C=..., solver='...', multi_class='...', max_iter=1000)\n",
        "\n",
        "# Treniranje finalnog logističkog modela na trening podacima\n",
        "best_logistic_model.fit(X_train, y_train)\n",
        "\n",
        "# Evaluacija performansi finalnog logističkog modela na test podacima\n",
        "logistic_accuracy = best_logistic_model.score(X_test, y_test)\n",
        "print(\"Tačnost finalnog logističkog modela:\", logistic_accuracy)\n"
      ]
    },
    {
      "cell_type": "code",
      "execution_count": null,
      "metadata": {
        "id": "6JIJ1CTZiiDV"
      },
      "outputs": [],
      "source": [
        "from sklearn.svm import SVC\n",
        "\n",
        "# Inicijalizacija SVM klasifikatora sa najboljim parametrima\n",
        "best_svm_model = SVC(C=..., kernel='...', gamma=..., decision_function_shape='...')\n",
        "\n",
        "# Treniranje finalnog SVM modela na trening podacima\n",
        "best_svm_model.fit(X_train, y_train)\n",
        "\n",
        "# Evaluacija performansi finalnog SVM modela na test podacima\n",
        "svm_accuracy = best_svm_model.score(X_test, y_test)\n",
        "print(\"Tačnost finalnog SVM modela:\", svm_accuracy)\n"
      ]
    }
  ],
  "metadata": {
    "colab": {
      "provenance": []
    },
    "kernelspec": {
      "display_name": "Python 3",
      "name": "python3"
    },
    "language_info": {
      "codemirror_mode": {
        "name": "ipython",
        "version": 3
      },
      "file_extension": ".py",
      "mimetype": "text/x-python",
      "name": "python",
      "nbconvert_exporter": "python",
      "pygments_lexer": "ipython3",
      "version": "3.11.8"
    }
  },
  "nbformat": 4,
  "nbformat_minor": 0
}
