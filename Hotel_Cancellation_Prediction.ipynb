{
  "cells": [
    {
      "attachments": {},
      "cell_type": "markdown",
      "metadata": {
        "id": "HKjwL3o6_-ZP"
      },
      "source": [
        "# **Hotel Cancellation Prediction**\n",
        "\n"
      ]
    },
    {
      "attachments": {},
      "cell_type": "markdown",
      "metadata": {
        "id": "-R3wTGZaAKJD"
      },
      "source": [
        "**1. Import**"
      ]
    },
    {
      "cell_type": "code",
      "execution_count": 1,
      "metadata": {
        "id": "5EIb65KM_zD8"
      },
      "outputs": [],
      "source": [
        "import pandas as pd\n",
        "import numpy as np"
      ]
    },
    {
      "attachments": {},
      "cell_type": "markdown",
      "metadata": {
        "id": "uwM8jJwgASk7"
      },
      "source": [
        "**2. Dataset**"
      ]
    },
    {
      "cell_type": "code",
      "execution_count": 2,
      "metadata": {
        "colab": {
          "base_uri": "https://localhost:8080/",
          "height": 310
        },
        "id": "P7TdQFEmAUQG",
        "outputId": "fe456888-19d4-43d6-ac39-0bf3e43eb69a"
      },
      "outputs": [
        {
          "data": {
            "text/html": [
              "<div>\n",
              "<style scoped>\n",
              "    .dataframe tbody tr th:only-of-type {\n",
              "        vertical-align: middle;\n",
              "    }\n",
              "\n",
              "    .dataframe tbody tr th {\n",
              "        vertical-align: top;\n",
              "    }\n",
              "\n",
              "    .dataframe thead th {\n",
              "        text-align: right;\n",
              "    }\n",
              "</style>\n",
              "<table border=\"1\" class=\"dataframe\">\n",
              "  <thead>\n",
              "    <tr style=\"text-align: right;\">\n",
              "      <th></th>\n",
              "      <th>Booking_ID</th>\n",
              "      <th>number of adults</th>\n",
              "      <th>number of children</th>\n",
              "      <th>number of weekend nights</th>\n",
              "      <th>number of week nights</th>\n",
              "      <th>type of meal</th>\n",
              "      <th>car parking space</th>\n",
              "      <th>room type</th>\n",
              "      <th>lead time</th>\n",
              "      <th>market segment type</th>\n",
              "      <th>repeated</th>\n",
              "      <th>P-C</th>\n",
              "      <th>P-not-C</th>\n",
              "      <th>average price</th>\n",
              "      <th>special requests</th>\n",
              "      <th>date of reservation</th>\n",
              "      <th>booking status</th>\n",
              "    </tr>\n",
              "  </thead>\n",
              "  <tbody>\n",
              "    <tr>\n",
              "      <th>0</th>\n",
              "      <td>INN00001</td>\n",
              "      <td>1</td>\n",
              "      <td>1</td>\n",
              "      <td>2</td>\n",
              "      <td>5</td>\n",
              "      <td>Meal Plan 1</td>\n",
              "      <td>0</td>\n",
              "      <td>Room_Type 1</td>\n",
              "      <td>224</td>\n",
              "      <td>Offline</td>\n",
              "      <td>0</td>\n",
              "      <td>0</td>\n",
              "      <td>0</td>\n",
              "      <td>88.00</td>\n",
              "      <td>0</td>\n",
              "      <td>10/2/2015</td>\n",
              "      <td>Not_Canceled</td>\n",
              "    </tr>\n",
              "    <tr>\n",
              "      <th>1</th>\n",
              "      <td>INN00002</td>\n",
              "      <td>1</td>\n",
              "      <td>0</td>\n",
              "      <td>1</td>\n",
              "      <td>3</td>\n",
              "      <td>Not Selected</td>\n",
              "      <td>0</td>\n",
              "      <td>Room_Type 1</td>\n",
              "      <td>5</td>\n",
              "      <td>Online</td>\n",
              "      <td>0</td>\n",
              "      <td>0</td>\n",
              "      <td>0</td>\n",
              "      <td>106.68</td>\n",
              "      <td>1</td>\n",
              "      <td>11/6/2018</td>\n",
              "      <td>Not_Canceled</td>\n",
              "    </tr>\n",
              "    <tr>\n",
              "      <th>2</th>\n",
              "      <td>INN00003</td>\n",
              "      <td>2</td>\n",
              "      <td>1</td>\n",
              "      <td>1</td>\n",
              "      <td>3</td>\n",
              "      <td>Meal Plan 1</td>\n",
              "      <td>0</td>\n",
              "      <td>Room_Type 1</td>\n",
              "      <td>1</td>\n",
              "      <td>Online</td>\n",
              "      <td>0</td>\n",
              "      <td>0</td>\n",
              "      <td>0</td>\n",
              "      <td>50.00</td>\n",
              "      <td>0</td>\n",
              "      <td>2/28/2018</td>\n",
              "      <td>Canceled</td>\n",
              "    </tr>\n",
              "    <tr>\n",
              "      <th>3</th>\n",
              "      <td>INN00004</td>\n",
              "      <td>1</td>\n",
              "      <td>0</td>\n",
              "      <td>0</td>\n",
              "      <td>2</td>\n",
              "      <td>Meal Plan 1</td>\n",
              "      <td>0</td>\n",
              "      <td>Room_Type 1</td>\n",
              "      <td>211</td>\n",
              "      <td>Online</td>\n",
              "      <td>0</td>\n",
              "      <td>0</td>\n",
              "      <td>0</td>\n",
              "      <td>100.00</td>\n",
              "      <td>1</td>\n",
              "      <td>5/20/2017</td>\n",
              "      <td>Canceled</td>\n",
              "    </tr>\n",
              "    <tr>\n",
              "      <th>4</th>\n",
              "      <td>INN00005</td>\n",
              "      <td>1</td>\n",
              "      <td>0</td>\n",
              "      <td>1</td>\n",
              "      <td>2</td>\n",
              "      <td>Not Selected</td>\n",
              "      <td>0</td>\n",
              "      <td>Room_Type 1</td>\n",
              "      <td>48</td>\n",
              "      <td>Online</td>\n",
              "      <td>0</td>\n",
              "      <td>0</td>\n",
              "      <td>0</td>\n",
              "      <td>77.00</td>\n",
              "      <td>0</td>\n",
              "      <td>4/11/2018</td>\n",
              "      <td>Canceled</td>\n",
              "    </tr>\n",
              "  </tbody>\n",
              "</table>\n",
              "</div>"
            ],
            "text/plain": [
              "  Booking_ID  number of adults  number of children  number of weekend nights  \\\n",
              "0   INN00001                 1                   1                         2   \n",
              "1   INN00002                 1                   0                         1   \n",
              "2   INN00003                 2                   1                         1   \n",
              "3   INN00004                 1                   0                         0   \n",
              "4   INN00005                 1                   0                         1   \n",
              "\n",
              "   number of week nights  type of meal  car parking space    room type  \\\n",
              "0                      5   Meal Plan 1                  0  Room_Type 1   \n",
              "1                      3  Not Selected                  0  Room_Type 1   \n",
              "2                      3   Meal Plan 1                  0  Room_Type 1   \n",
              "3                      2   Meal Plan 1                  0  Room_Type 1   \n",
              "4                      2  Not Selected                  0  Room_Type 1   \n",
              "\n",
              "   lead time market segment type  repeated  P-C  P-not-C  average price  \\\n",
              "0        224             Offline         0    0        0          88.00   \n",
              "1          5              Online         0    0        0         106.68   \n",
              "2          1              Online         0    0        0          50.00   \n",
              "3        211              Online         0    0        0         100.00   \n",
              "4         48              Online         0    0        0          77.00   \n",
              "\n",
              "   special requests date of reservation booking status  \n",
              "0                 0           10/2/2015   Not_Canceled  \n",
              "1                 1           11/6/2018   Not_Canceled  \n",
              "2                 0           2/28/2018       Canceled  \n",
              "3                 1           5/20/2017       Canceled  \n",
              "4                 0           4/11/2018       Canceled  "
            ]
          },
          "execution_count": 2,
          "metadata": {},
          "output_type": "execute_result"
        }
      ],
      "source": [
        "data = pd.read_csv('booking.csv')\n",
        "\n",
        "data.head()"
      ]
    },
    {
      "attachments": {},
      "cell_type": "markdown",
      "metadata": {
        "id": "_XQ4SWYrAjmF"
      },
      "source": [
        "**3. Drop Useless Data**"
      ]
    },
    {
      "cell_type": "code",
      "execution_count": 3,
      "metadata": {
        "id": "lPYvriONAqxs"
      },
      "outputs": [],
      "source": [
        "data.drop(['Booking_ID', 'P-not-C'], axis=1, inplace=True)\n"
      ]
    },
    {
      "attachments": {},
      "cell_type": "markdown",
      "metadata": {
        "id": "hZ-1EGETA8uY"
      },
      "source": [
        "**4. Set X & Y**"
      ]
    },
    {
      "cell_type": "code",
      "execution_count": 4,
      "metadata": {
        "id": "0qrM4uiFBDTS"
      },
      "outputs": [],
      "source": [
        "# Convert 'date of reservation' to datetime\n",
        "data['date of reservation'] = pd.to_datetime(data['date of reservation'],errors='coerce')\n",
        "\n",
        "# Create new features based on 'date of reservation'\n",
        "data['reservation_year'] = data['date of reservation'].dt.year\n",
        "data['reservation_month'] = data['date of reservation'].dt.month\n",
        "data['reservation_day'] = data['date of reservation'].dt.day\n",
        "data['reservation_dayofweek'] = data['date of reservation'].dt.dayofweek\n",
        "\n",
        "# Drop the original 'date of reservation' column\n",
        "data = data.drop(['date of reservation'], axis=1)\n",
        "\n",
        "data.dropna(subset=['reservation_year', 'reservation_month', 'reservation_day', 'reservation_dayofweek'], inplace=True)\n",
        "\n",
        "# Create dummy variables and set X & Y\n",
        "X = data.drop(['booking status'], axis=1)\n",
        "y = data['booking status']\n",
        "X = pd.get_dummies(X)"
      ]
    },
    {
      "attachments": {},
      "cell_type": "markdown",
      "metadata": {
        "id": "h-3sOkIfBi4n"
      },
      "source": [
        "**5. Train, Validation and Test Split**"
      ]
    },
    {
      "cell_type": "code",
      "execution_count": 5,
      "metadata": {
        "colab": {
          "base_uri": "https://localhost:8080/"
        },
        "id": "NTQPI9ZvBl8_",
        "outputId": "2e493462-803c-40fa-ad09-20dde2e3d11a"
      },
      "outputs": [
        {
          "name": "stdout",
          "output_type": "stream",
          "text": [
            "29360\n",
            "29360\n"
          ]
        }
      ],
      "source": [
        "from sklearn.model_selection import train_test_split\n",
        "\n",
        "X_train1, X_test, y_train1, y_test = train_test_split(X, y, test_size=0.1, random_state=42)\n",
        "X_train, X_valid, y_train, y_valid = train_test_split(X_train1, y_train1, test_size=0.1, random_state=42)\n",
        "\n",
        "print(X_train.shape[0])\n",
        "print(len(y_train))"
      ]
    },
    {
      "attachments": {},
      "cell_type": "markdown",
      "metadata": {
        "id": "hUIxRbt1D4vs"
      },
      "source": [
        "**6. Standardize 'Average Price'**"
      ]
    },
    {
      "cell_type": "code",
      "execution_count": 6,
      "metadata": {
        "colab": {
          "base_uri": "https://localhost:8080/"
        },
        "id": "AycWccw9D8vV",
        "outputId": "88cb9892-cc9c-4d57-975a-3581ecc4fa87"
      },
      "outputs": [
        {
          "name": "stdout",
          "output_type": "stream",
          "text": [
            "   average price  number of adults  number of children  \\\n",
            "0      -0.805801                 2                   0   \n",
            "1      -0.200849                 2                   0   \n",
            "2      -1.033012                 1                   0   \n",
            "3      -0.712076                 2                   0   \n",
            "4      -0.386879                 2                   0   \n",
            "\n",
            "   number of weekend nights  number of week nights  car parking space  \\\n",
            "0                         0                      3                  0   \n",
            "1                         1                      1                  0   \n",
            "2                         2                      0                  1   \n",
            "3                         2                      0                  0   \n",
            "4                         1                      2                  0   \n",
            "\n",
            "   lead time  repeated  P-C  special requests  ...  room type_Room_Type 3  \\\n",
            "0        146         0    0                 0  ...                  False   \n",
            "1         57         0    0                 0  ...                  False   \n",
            "2          3         1    0                 1  ...                  False   \n",
            "3         31         0    0                 0  ...                  False   \n",
            "4        147         0    0                 2  ...                  False   \n",
            "\n",
            "   room type_Room_Type 4  room type_Room_Type 5  room type_Room_Type 6  \\\n",
            "0                  False                  False                  False   \n",
            "1                  False                  False                  False   \n",
            "2                  False                  False                  False   \n",
            "3                  False                  False                  False   \n",
            "4                  False                  False                  False   \n",
            "\n",
            "   room type_Room_Type 7  market segment type_Aviation  \\\n",
            "0                  False                         False   \n",
            "1                  False                         False   \n",
            "2                  False                         False   \n",
            "3                  False                         False   \n",
            "4                  False                         False   \n",
            "\n",
            "   market segment type_Complementary  market segment type_Corporate  \\\n",
            "0                              False                          False   \n",
            "1                              False                          False   \n",
            "2                              False                           True   \n",
            "3                              False                          False   \n",
            "4                              False                          False   \n",
            "\n",
            "   market segment type_Offline  market segment type_Online  \n",
            "0                         True                       False  \n",
            "1                        False                        True  \n",
            "2                        False                       False  \n",
            "3                        False                        True  \n",
            "4                         True                       False  \n",
            "\n",
            "[5 rows x 30 columns]\n",
            "   average price  number of adults  number of children  \\\n",
            "0      -0.520934                 2                   2   \n",
            "1      -0.352797                 2                   0   \n",
            "2      -0.216754                 1                   0   \n",
            "3       1.588444                 3                   0   \n",
            "4       0.472266                 1                   0   \n",
            "\n",
            "   number of weekend nights  number of week nights  car parking space  \\\n",
            "0                         0                      3                  0   \n",
            "1                         3                      8                  0   \n",
            "2                         2                      8                  0   \n",
            "3                         0                      3                  0   \n",
            "4                         1                      0                  0   \n",
            "\n",
            "   lead time  repeated  P-C  special requests  ...  room type_Room_Type 3  \\\n",
            "0          2         0    0                 1  ...                  False   \n",
            "1        204         0    0                 1  ...                  False   \n",
            "2         45         0    0                 0  ...                  False   \n",
            "3        198         0    0                 1  ...                  False   \n",
            "4         76         0    0                 0  ...                  False   \n",
            "\n",
            "   room type_Room_Type 4  room type_Room_Type 5  room type_Room_Type 6  \\\n",
            "0                  False                  False                  False   \n",
            "1                  False                  False                  False   \n",
            "2                  False                  False                  False   \n",
            "3                   True                  False                  False   \n",
            "4                  False                  False                  False   \n",
            "\n",
            "   room type_Room_Type 7  market segment type_Aviation  \\\n",
            "0                  False                         False   \n",
            "1                  False                         False   \n",
            "2                  False                         False   \n",
            "3                  False                         False   \n",
            "4                  False                         False   \n",
            "\n",
            "   market segment type_Complementary  market segment type_Corporate  \\\n",
            "0                              False                          False   \n",
            "1                              False                          False   \n",
            "2                              False                          False   \n",
            "3                              False                          False   \n",
            "4                              False                          False   \n",
            "\n",
            "   market segment type_Offline  market segment type_Online  \n",
            "0                        False                        True  \n",
            "1                        False                        True  \n",
            "2                        False                        True  \n",
            "3                        False                        True  \n",
            "4                         True                       False  \n",
            "\n",
            "[5 rows x 30 columns]\n"
          ]
        }
      ],
      "source": [
        "from sklearn.preprocessing import StandardScaler\n",
        "\n",
        "# Initialize the StandardScaler\n",
        "s = StandardScaler()\n",
        "\n",
        "# Standardize the 'average price' column on the training set\n",
        "s.fit(X_train[['average price']])\n",
        "\n",
        "# Transform the 'average price' column on the training and validation sets\n",
        "x_train_std = s.transform(X_train[['average price']])\n",
        "x_valid_std = s.transform(X_valid[['average price']])\n",
        "\n",
        "# Create DataFrames from standardized data\n",
        "x_train_std = pd.DataFrame(x_train_std, columns=['average price'])\n",
        "x_valid_std = pd.DataFrame(x_valid_std, columns=['average price'])\n",
        "\n",
        "# Drop the 'average price' column from x_train_std and x_valid_std\n",
        "X_train = X_train.drop(columns=['average price'])\n",
        "X_valid = X_valid.drop(columns=['average price'])\n",
        "\n",
        "# Reset the index of DataFrames before concatenation\n",
        "X_train.reset_index(drop=True, inplace=True)\n",
        "X_valid.reset_index(drop=True, inplace=True)\n",
        "x_train_std.reset_index(drop=True, inplace=True)\n",
        "x_valid_std.reset_index(drop=True, inplace=True)\n",
        "\n",
        "# Concatenate standardized data with the rest of the data\n",
        "X_train = pd.concat([x_train_std, X_train], axis=1)\n",
        "X_valid = pd.concat([x_valid_std, X_valid], axis=1)\n",
        "\n",
        "# Print the first few rows of concatenated DataFrames\n",
        "print(X_train.head())\n",
        "print(X_valid.head())\n"
      ]
    },
    {
      "attachments": {},
      "cell_type": "markdown",
      "metadata": {
        "id": "EfR3w4d9KwZ0"
      },
      "source": [
        "**7. K-Nearest Neighbors**"
      ]
    },
    {
      "cell_type": "code",
      "execution_count": 7,
      "metadata": {
        "id": "0RXzRiiIK1CI"
      },
      "outputs": [
        {
          "name": "stdout",
          "output_type": "stream",
          "text": [
            "Fitting 5 folds for each of 15 candidates, totalling 75 fits\n",
            "[CV 1/5] END .....metric=hamming, n_neighbors=3;, score=0.809 total time=   2.5s\n",
            "[CV 2/5] END .....metric=hamming, n_neighbors=3;, score=0.814 total time=   2.8s\n",
            "[CV 3/5] END .....metric=hamming, n_neighbors=3;, score=0.815 total time=   2.4s\n",
            "[CV 4/5] END .....metric=hamming, n_neighbors=3;, score=0.817 total time=   2.5s\n",
            "[CV 5/5] END .....metric=hamming, n_neighbors=3;, score=0.808 total time=   2.4s\n",
            "[CV 1/5] END .....metric=hamming, n_neighbors=5;, score=0.814 total time=   3.1s\n",
            "[CV 2/5] END .....metric=hamming, n_neighbors=5;, score=0.816 total time=   3.7s\n",
            "[CV 3/5] END .....metric=hamming, n_neighbors=5;, score=0.812 total time=   3.2s\n",
            "[CV 4/5] END .....metric=hamming, n_neighbors=5;, score=0.821 total time=   3.1s\n",
            "[CV 5/5] END .....metric=hamming, n_neighbors=5;, score=0.811 total time=   3.5s\n",
            "[CV 1/5] END .....metric=hamming, n_neighbors=7;, score=0.817 total time=   3.5s\n",
            "[CV 2/5] END .....metric=hamming, n_neighbors=7;, score=0.818 total time=   3.1s\n",
            "[CV 3/5] END .....metric=hamming, n_neighbors=7;, score=0.815 total time=   3.2s\n",
            "[CV 4/5] END .....metric=hamming, n_neighbors=7;, score=0.824 total time=   3.2s\n",
            "[CV 5/5] END .....metric=hamming, n_neighbors=7;, score=0.813 total time=   3.1s\n",
            "[CV 1/5] END .....metric=hamming, n_neighbors=9;, score=0.819 total time=   3.7s\n",
            "[CV 2/5] END .....metric=hamming, n_neighbors=9;, score=0.818 total time=   3.2s\n",
            "[CV 3/5] END .....metric=hamming, n_neighbors=9;, score=0.815 total time=   3.8s\n",
            "[CV 4/5] END .....metric=hamming, n_neighbors=9;, score=0.826 total time=   3.8s\n",
            "[CV 5/5] END .....metric=hamming, n_neighbors=9;, score=0.810 total time=   4.4s\n",
            "[CV 1/5] END ....metric=hamming, n_neighbors=11;, score=0.818 total time=   3.4s\n",
            "[CV 2/5] END ....metric=hamming, n_neighbors=11;, score=0.821 total time=   4.9s\n",
            "[CV 3/5] END ....metric=hamming, n_neighbors=11;, score=0.818 total time=   4.1s\n",
            "[CV 4/5] END ....metric=hamming, n_neighbors=11;, score=0.832 total time=   4.6s\n",
            "[CV 5/5] END ....metric=hamming, n_neighbors=11;, score=0.811 total time=   4.0s\n",
            "[CV 1/5] END ...metric=euclidean, n_neighbors=3;, score=0.810 total time=   0.9s\n",
            "[CV 2/5] END ...metric=euclidean, n_neighbors=3;, score=0.811 total time=   0.4s\n",
            "[CV 3/5] END ...metric=euclidean, n_neighbors=3;, score=0.807 total time=   0.4s\n",
            "[CV 4/5] END ...metric=euclidean, n_neighbors=3;, score=0.804 total time=   0.4s\n",
            "[CV 5/5] END ...metric=euclidean, n_neighbors=3;, score=0.810 total time=   0.4s\n",
            "[CV 1/5] END ...metric=euclidean, n_neighbors=5;, score=0.805 total time=   0.4s\n",
            "[CV 2/5] END ...metric=euclidean, n_neighbors=5;, score=0.807 total time=   0.3s\n",
            "[CV 3/5] END ...metric=euclidean, n_neighbors=5;, score=0.812 total time=   0.4s\n",
            "[CV 4/5] END ...metric=euclidean, n_neighbors=5;, score=0.808 total time=   0.5s\n",
            "[CV 5/5] END ...metric=euclidean, n_neighbors=5;, score=0.809 total time=   0.7s\n",
            "[CV 1/5] END ...metric=euclidean, n_neighbors=7;, score=0.809 total time=   0.3s\n",
            "[CV 2/5] END ...metric=euclidean, n_neighbors=7;, score=0.805 total time=   0.4s\n",
            "[CV 3/5] END ...metric=euclidean, n_neighbors=7;, score=0.810 total time=   0.4s\n",
            "[CV 4/5] END ...metric=euclidean, n_neighbors=7;, score=0.802 total time=   0.4s\n",
            "[CV 5/5] END ...metric=euclidean, n_neighbors=7;, score=0.804 total time=   0.4s\n",
            "[CV 1/5] END ...metric=euclidean, n_neighbors=9;, score=0.805 total time=   0.4s\n",
            "[CV 2/5] END ...metric=euclidean, n_neighbors=9;, score=0.805 total time=   0.3s\n",
            "[CV 3/5] END ...metric=euclidean, n_neighbors=9;, score=0.808 total time=   0.3s\n",
            "[CV 4/5] END ...metric=euclidean, n_neighbors=9;, score=0.798 total time=   0.3s\n",
            "[CV 5/5] END ...metric=euclidean, n_neighbors=9;, score=0.804 total time=   0.3s\n",
            "[CV 1/5] END ..metric=euclidean, n_neighbors=11;, score=0.806 total time=   0.3s\n",
            "[CV 2/5] END ..metric=euclidean, n_neighbors=11;, score=0.801 total time=   0.3s\n",
            "[CV 3/5] END ..metric=euclidean, n_neighbors=11;, score=0.810 total time=   0.3s\n",
            "[CV 4/5] END ..metric=euclidean, n_neighbors=11;, score=0.797 total time=   0.4s\n",
            "[CV 5/5] END ..metric=euclidean, n_neighbors=11;, score=0.804 total time=   0.3s\n",
            "[CV 1/5] END ...metric=manhattan, n_neighbors=3;, score=0.816 total time=   0.8s\n",
            "[CV 2/5] END ...metric=manhattan, n_neighbors=3;, score=0.822 total time=   0.9s\n",
            "[CV 3/5] END ...metric=manhattan, n_neighbors=3;, score=0.816 total time=   0.9s\n",
            "[CV 4/5] END ...metric=manhattan, n_neighbors=3;, score=0.819 total time=   0.8s\n",
            "[CV 5/5] END ...metric=manhattan, n_neighbors=3;, score=0.819 total time=   0.9s\n",
            "[CV 1/5] END ...metric=manhattan, n_neighbors=5;, score=0.816 total time=   0.8s\n",
            "[CV 2/5] END ...metric=manhattan, n_neighbors=5;, score=0.819 total time=   0.9s\n",
            "[CV 3/5] END ...metric=manhattan, n_neighbors=5;, score=0.821 total time=   0.8s\n",
            "[CV 4/5] END ...metric=manhattan, n_neighbors=5;, score=0.818 total time=   0.8s\n",
            "[CV 5/5] END ...metric=manhattan, n_neighbors=5;, score=0.815 total time=   0.7s\n",
            "[CV 1/5] END ...metric=manhattan, n_neighbors=7;, score=0.817 total time=   0.7s\n",
            "[CV 2/5] END ...metric=manhattan, n_neighbors=7;, score=0.817 total time=   0.8s\n",
            "[CV 3/5] END ...metric=manhattan, n_neighbors=7;, score=0.819 total time=   0.8s\n",
            "[CV 4/5] END ...metric=manhattan, n_neighbors=7;, score=0.820 total time=   0.9s\n",
            "[CV 5/5] END ...metric=manhattan, n_neighbors=7;, score=0.818 total time=   0.8s\n",
            "[CV 1/5] END ...metric=manhattan, n_neighbors=9;, score=0.821 total time=   0.7s\n",
            "[CV 2/5] END ...metric=manhattan, n_neighbors=9;, score=0.814 total time=   0.7s\n",
            "[CV 3/5] END ...metric=manhattan, n_neighbors=9;, score=0.821 total time=   0.7s\n",
            "[CV 4/5] END ...metric=manhattan, n_neighbors=9;, score=0.819 total time=   0.7s\n",
            "[CV 5/5] END ...metric=manhattan, n_neighbors=9;, score=0.819 total time=   0.7s\n",
            "[CV 1/5] END ..metric=manhattan, n_neighbors=11;, score=0.816 total time=   0.8s\n",
            "[CV 2/5] END ..metric=manhattan, n_neighbors=11;, score=0.816 total time=   0.8s\n",
            "[CV 3/5] END ..metric=manhattan, n_neighbors=11;, score=0.815 total time=   0.8s\n",
            "[CV 4/5] END ..metric=manhattan, n_neighbors=11;, score=0.818 total time=   0.9s\n",
            "[CV 5/5] END ..metric=manhattan, n_neighbors=11;, score=0.819 total time=   1.0s\n",
            "Najbolji model: KNeighborsClassifier(metric='hamming', n_neighbors=11)\n",
            "Najbolji parametri: {'metric': 'hamming', 'n_neighbors': 11}\n",
            "Najbolji rezultat: 0.8198569482288829\n"
          ]
        }
      ],
      "source": [
        "from sklearn.neighbors import KNeighborsClassifier\n",
        "from sklearn.model_selection import GridSearchCV\n",
        "\n",
        "# Define a list of parameters to explore\n",
        "parameters = {'n_neighbors': [3, 5, 7, 9, 11], 'metric': ('hamming', 'euclidean', 'manhattan')}\n",
        "\n",
        "# Initialize the KNN classifier\n",
        "knn = KNeighborsClassifier()\n",
        "\n",
        "# Initialize GridSearchCV with the KNN classifier and parameters\n",
        "grid_search = GridSearchCV(knn, parameters, cv=5, scoring='accuracy', verbose=3)\n",
        "\n",
        "# Fit GridSearchCV on the data\n",
        "grid_search.fit(X_train, y_train)\n",
        "\n",
        "# Best model and best parameters\n",
        "best_knn_model = grid_search.best_estimator_\n",
        "best_params = grid_search.best_params_\n",
        "best_score = grid_search.best_score_\n",
        "\n",
        "print(\"Best model:\", best_knn_model)\n",
        "print(\"Best parameters:\", best_params)\n",
        "print(\"Best score:\", best_score)"
      ]
    },
    {
      "attachments": {},
      "cell_type": "markdown",
      "metadata": {
        "id": "JMLX868UVvfu"
      },
      "source": [
        "**8. Support Vector Machines**"
      ]
    },
    {
      "cell_type": "code",
      "execution_count": 8,
      "metadata": {
        "colab": {
          "base_uri": "https://localhost:8080/"
        },
        "id": "FCodal0cVyrT",
        "outputId": "002060d5-1228-4b47-eb85-a453b6712b2b"
      },
      "outputs": [
        {
          "name": "stdout",
          "output_type": "stream",
          "text": [
            "Fitting 5 folds for each of 9 candidates, totalling 45 fits\n",
            "[CV 1/5] END .C=0.1, gamma=scale, kernel=linear;, score=0.798 total time=  19.9s\n",
            "[CV 2/5] END .C=0.1, gamma=scale, kernel=linear;, score=0.804 total time=  17.1s\n",
            "[CV 3/5] END .C=0.1, gamma=scale, kernel=linear;, score=0.800 total time=  16.1s\n",
            "[CV 4/5] END .C=0.1, gamma=scale, kernel=linear;, score=0.802 total time=  16.3s\n",
            "[CV 5/5] END .C=0.1, gamma=scale, kernel=linear;, score=0.789 total time=  16.9s\n",
            "[CV 1/5] END ....C=0.1, gamma=scale, kernel=rbf;, score=0.739 total time=  34.4s\n",
            "[CV 2/5] END ....C=0.1, gamma=scale, kernel=rbf;, score=0.744 total time=  33.1s\n",
            "[CV 3/5] END ....C=0.1, gamma=scale, kernel=rbf;, score=0.747 total time=  30.5s\n",
            "[CV 4/5] END ....C=0.1, gamma=scale, kernel=rbf;, score=0.743 total time=  31.6s\n",
            "[CV 5/5] END ....C=0.1, gamma=scale, kernel=rbf;, score=0.742 total time=  31.6s\n",
            "[CV 1/5] END ...C=0.1, gamma=scale, kernel=poly;, score=0.742 total time=  20.6s\n",
            "[CV 2/5] END ...C=0.1, gamma=scale, kernel=poly;, score=0.747 total time=  21.2s\n",
            "[CV 3/5] END ...C=0.1, gamma=scale, kernel=poly;, score=0.752 total time=  20.3s\n",
            "[CV 4/5] END ...C=0.1, gamma=scale, kernel=poly;, score=0.748 total time=  20.7s\n",
            "[CV 5/5] END ...C=0.1, gamma=scale, kernel=poly;, score=0.744 total time=  20.7s\n",
            "[CV 1/5] END ...C=1, gamma=scale, kernel=linear;, score=0.798 total time=  15.4s\n",
            "[CV 2/5] END ...C=1, gamma=scale, kernel=linear;, score=0.804 total time=  19.4s\n",
            "[CV 3/5] END ...C=1, gamma=scale, kernel=linear;, score=0.801 total time=  15.6s\n",
            "[CV 4/5] END ...C=1, gamma=scale, kernel=linear;, score=0.798 total time=  18.4s\n",
            "[CV 5/5] END ...C=1, gamma=scale, kernel=linear;, score=0.787 total time=  16.1s\n",
            "[CV 1/5] END ......C=1, gamma=scale, kernel=rbf;, score=0.747 total time=  32.6s\n",
            "[CV 2/5] END ......C=1, gamma=scale, kernel=rbf;, score=0.751 total time=  31.6s\n",
            "[CV 3/5] END ......C=1, gamma=scale, kernel=rbf;, score=0.759 total time=  31.7s\n",
            "[CV 4/5] END ......C=1, gamma=scale, kernel=rbf;, score=0.752 total time=  34.9s\n",
            "[CV 5/5] END ......C=1, gamma=scale, kernel=rbf;, score=0.750 total time=  32.8s\n",
            "[CV 1/5] END .....C=1, gamma=scale, kernel=poly;, score=0.747 total time=  22.4s\n",
            "[CV 2/5] END .....C=1, gamma=scale, kernel=poly;, score=0.750 total time=  23.6s\n",
            "[CV 3/5] END .....C=1, gamma=scale, kernel=poly;, score=0.758 total time=  24.5s\n",
            "[CV 4/5] END .....C=1, gamma=scale, kernel=poly;, score=0.752 total time=  23.8s\n",
            "[CV 5/5] END .....C=1, gamma=scale, kernel=poly;, score=0.749 total time=  23.2s\n",
            "[CV 1/5] END ..C=10, gamma=scale, kernel=linear;, score=0.798 total time=  17.4s\n",
            "[CV 2/5] END ..C=10, gamma=scale, kernel=linear;, score=0.798 total time=  17.1s\n",
            "[CV 3/5] END ..C=10, gamma=scale, kernel=linear;, score=0.799 total time=  20.9s\n",
            "[CV 4/5] END ..C=10, gamma=scale, kernel=linear;, score=0.796 total time=  15.4s\n",
            "[CV 5/5] END ..C=10, gamma=scale, kernel=linear;, score=0.787 total time=  18.5s\n",
            "[CV 1/5] END .....C=10, gamma=scale, kernel=rbf;, score=0.727 total time=  42.0s\n",
            "[CV 2/5] END .....C=10, gamma=scale, kernel=rbf;, score=0.734 total time=  33.1s\n",
            "[CV 3/5] END .....C=10, gamma=scale, kernel=rbf;, score=0.734 total time=  35.3s\n",
            "[CV 4/5] END .....C=10, gamma=scale, kernel=rbf;, score=0.733 total time=  31.1s\n",
            "[CV 5/5] END .....C=10, gamma=scale, kernel=rbf;, score=0.730 total time=  33.2s\n",
            "[CV 1/5] END ....C=10, gamma=scale, kernel=poly;, score=0.727 total time=  22.1s\n",
            "[CV 2/5] END ....C=10, gamma=scale, kernel=poly;, score=0.734 total time=  22.7s\n",
            "[CV 3/5] END ....C=10, gamma=scale, kernel=poly;, score=0.735 total time=  24.9s\n",
            "[CV 4/5] END ....C=10, gamma=scale, kernel=poly;, score=0.732 total time=  24.6s\n",
            "[CV 5/5] END ....C=10, gamma=scale, kernel=poly;, score=0.733 total time=  23.9s\n",
            "Najbolji model SVM: SVC(C=0.1, kernel='linear')\n",
            "Najbolji parametri SVM: {'C': 0.1, 'gamma': 'scale', 'kernel': 'linear'}\n",
            "Najbolji rezultat SVM: 0.7987057220708447\n"
          ]
        }
      ],
      "source": [
        "from sklearn.svm import SVC\n",
        "from sklearn.model_selection import GridSearchCV\n",
        "\n",
        "# Define a list of parameters to explore\n",
        "parameters = {'C': [0.1, 1, 10],\n",
        "              'kernel': ['linear', 'rbf', 'poly'],\n",
        "              'gamma': ['scale']}\n",
        "\n",
        "# Initialize the SVM classifier\n",
        "svm_classifier = SVC()\n",
        "\n",
        "# Initialize GridSearchCV with the SVM classifier and parameters\n",
        "grid_search_svm = GridSearchCV(svm_classifier, parameters, cv=5, scoring='accuracy', verbose=3)\n",
        "\n",
        "# Fit GridSearchCV on the data\n",
        "grid_search_svm.fit(X_train, y_train)\n",
        "\n",
        "# Best model and best parameters\n",
        "best_svm_model = grid_search_svm.best_estimator_\n",
        "best_params_svm = grid_search_svm.best_params_\n",
        "best_score_svm = grid_search_svm.best_score_\n",
        "\n",
        "print(\"Best SVM model:\", best_svm_model)\n",
        "print(\"Best SVM parameters:\", best_params_svm)\n",
        "print(\"Best SVM score:\", best_score_svm)"
      ]
    },
    {
      "attachments": {},
      "cell_type": "markdown",
      "metadata": {
        "id": "R-VGaQeYTXoU"
      },
      "source": [
        "**9. Linear Discriminant Analysis**"
      ]
    },
    {
      "cell_type": "code",
      "execution_count": 9,
      "metadata": {},
      "outputs": [
        {
          "name": "stdout",
          "output_type": "stream",
          "text": [
            "Najbolji model: LinearDiscriminantAnalysis(solver='lsqr')\n",
            "Najbolji parametri: {'n_components': None, 'shrinkage': None, 'solver': 'lsqr'}\n",
            "Najbolji rezultat: 0.7983310626702996\n"
          ]
        }
      ],
      "source": [
        "from sklearn.discriminant_analysis import LinearDiscriminantAnalysis as LDA\n",
        "from sklearn.model_selection import GridSearchCV\n",
        "\n",
        "# Define a list of parameters to explore\n",
        "parameters = {'solver': ['lsqr'],\n",
        "              'shrinkage': ['auto', None],\n",
        "              'n_components': [None, 1]}\n",
        "\n",
        "# Initialize the LDA model\n",
        "lda = LDA()\n",
        "\n",
        "# Initialize GridSearchCV with the LDA model and parameters\n",
        "grid_search_lda = GridSearchCV(lda, parameters, cv=5, scoring='accuracy')\n",
        "\n",
        "# Fit GridSearchCV on the data\n",
        "grid_search_lda.fit(X_train, y_train)\n",
        "\n",
        "# Best model and best parameters\n",
        "best_lda_model = grid_search_lda.best_estimator_\n",
        "best_params = grid_search_lda.best_params_\n",
        "best_score = grid_search_lda.best_score_\n",
        "\n",
        "print(\"Best model:\", best_lda_model)\n",
        "print(\"Best parameters:\", best_params)\n",
        "print(\"Best score:\", best_score)"
      ]
    },
    {
      "attachments": {},
      "cell_type": "markdown",
      "metadata": {
        "id": "lq4vUt2JiRfk"
      },
      "source": [
        "**10. Test Best Solutions**"
      ]
    },
    {
      "cell_type": "code",
      "execution_count": 10,
      "metadata": {},
      "outputs": [
        {
          "name": "stdout",
          "output_type": "stream",
          "text": [
            "   average price  number of adults  number of children  \\\n",
            "0      -0.040411                 2                   0   \n",
            "1      -0.612680                 2                   0   \n",
            "2      -0.752189                 1                   0   \n",
            "3       0.585953                 2                   0   \n",
            "4       0.158887                 2                   0   \n",
            "\n",
            "   number of weekend nights  number of week nights  car parking space  \\\n",
            "0                         2                      2                  0   \n",
            "1                         0                      1                  0   \n",
            "2                         1                      1                  0   \n",
            "3                         0                      3                  0   \n",
            "4                         2                      1                  0   \n",
            "\n",
            "   lead time  repeated  P-C  special requests  ...  room type_Room_Type 3  \\\n",
            "0          4         0    0                 1  ...                  False   \n",
            "1         30         0    0                 0  ...                  False   \n",
            "2         18         0    0                 1  ...                  False   \n",
            "3          0         0    0                 0  ...                  False   \n",
            "4         23         0    0                 0  ...                  False   \n",
            "\n",
            "   room type_Room_Type 4  room type_Room_Type 5  room type_Room_Type 6  \\\n",
            "0                  False                  False                  False   \n",
            "1                  False                  False                  False   \n",
            "2                  False                  False                  False   \n",
            "3                  False                  False                  False   \n",
            "4                  False                  False                  False   \n",
            "\n",
            "   room type_Room_Type 7  market segment type_Aviation  \\\n",
            "0                  False                         False   \n",
            "1                  False                         False   \n",
            "2                  False                         False   \n",
            "3                  False                         False   \n",
            "4                  False                         False   \n",
            "\n",
            "   market segment type_Complementary  market segment type_Corporate  \\\n",
            "0                              False                          False   \n",
            "1                              False                          False   \n",
            "2                              False                          False   \n",
            "3                              False                          False   \n",
            "4                              False                          False   \n",
            "\n",
            "   market segment type_Offline  market segment type_Online  \n",
            "0                        False                        True  \n",
            "1                        False                        True  \n",
            "2                         True                       False  \n",
            "3                        False                        True  \n",
            "4                         True                       False  \n",
            "\n",
            "[5 rows x 30 columns]\n",
            "   average price  number of adults  number of children  \\\n",
            "0       0.002296                 2                   0   \n",
            "1      -0.167108                 2                   0   \n",
            "2       0.924760                 2                   0   \n",
            "3       0.913371                 2                   0   \n",
            "4      -0.913620                 2                   0   \n",
            "\n",
            "   number of weekend nights  number of week nights  car parking space  \\\n",
            "0                         2                      1                  0   \n",
            "1                         0                      2                  0   \n",
            "2                         0                      2                  0   \n",
            "3                         1                      1                  0   \n",
            "4                         0                      3                  0   \n",
            "\n",
            "   lead time  repeated  P-C  special requests  ...  room type_Room_Type 3  \\\n",
            "0         81         0    0                 1  ...                  False   \n",
            "1        124         0    0                 0  ...                  False   \n",
            "2         31         0    0                 2  ...                  False   \n",
            "3          5         0    0                 0  ...                  False   \n",
            "4         68         0    0                 1  ...                  False   \n",
            "\n",
            "   room type_Room_Type 4  room type_Room_Type 5  room type_Room_Type 6  \\\n",
            "0                  False                  False                  False   \n",
            "1                  False                  False                  False   \n",
            "2                  False                  False                  False   \n",
            "3                  False                  False                  False   \n",
            "4                  False                  False                  False   \n",
            "\n",
            "   room type_Room_Type 7  market segment type_Aviation  \\\n",
            "0                  False                         False   \n",
            "1                  False                         False   \n",
            "2                  False                         False   \n",
            "3                  False                         False   \n",
            "4                  False                         False   \n",
            "\n",
            "   market segment type_Complementary  market segment type_Corporate  \\\n",
            "0                              False                          False   \n",
            "1                              False                          False   \n",
            "2                              False                          False   \n",
            "3                              False                          False   \n",
            "4                              False                          False   \n",
            "\n",
            "   market segment type_Offline  market segment type_Online  \n",
            "0                        False                        True  \n",
            "1                        False                        True  \n",
            "2                        False                        True  \n",
            "3                        False                        True  \n",
            "4                         True                       False  \n",
            "\n",
            "[5 rows x 30 columns]\n"
          ]
        }
      ],
      "source": [
        "from sklearn.preprocessing import StandardScaler\n",
        "\n",
        "# Initialize the StandardScaler\n",
        "s = StandardScaler()\n",
        "\n",
        "# Standardize the 'average price' column on the training set\n",
        "s.fit(X_train1[['average price']])\n",
        "\n",
        "# Transform the 'average price' column on the training and validation sets\n",
        "x_train_std = s.transform(X_train1[['average price']])\n",
        "x_test_std = s.transform(X_test[['average price']])\n",
        "\n",
        "# Create DataFrames from standardized data\n",
        "x_train_std = pd.DataFrame(x_train_std, columns=['average price'])\n",
        "x_test_std = pd.DataFrame(x_test_std, columns=['average price'])\n",
        "\n",
        "# Drop the 'average price' column from x_train_std and x_test_std\n",
        "X_train1 = X_train1.drop(columns=['average price'])\n",
        "X_test = X_test.drop(columns=['average price'])\n",
        "\n",
        "# Reset the index of DataFrames before concatenation\n",
        "X_train1.reset_index(drop=True, inplace=True)\n",
        "X_test.reset_index(drop=True, inplace=True)\n",
        "x_train_std.reset_index(drop=True, inplace=True)\n",
        "x_test_std.reset_index(drop=True, inplace=True)\n",
        "\n",
        "# Concatenate standardized data with the rest of the data\n",
        "X_train1 = pd.concat([x_train_std, X_train1], axis=1)\n",
        "X_test = pd.concat([x_test_std, X_test], axis=1)\n",
        "\n",
        "# Print the first few rows of concatenated DataFrames\n",
        "print(X_train1.head())\n",
        "print(X_test.head())"
      ]
    },
    {
      "cell_type": "code",
      "execution_count": 11,
      "metadata": {
        "id": "yd6vbCt_iUhk"
      },
      "outputs": [
        {
          "name": "stdout",
          "output_type": "stream",
          "text": [
            "Tačnost finalnog KNN modela: 0.8173793103448276\n"
          ]
        }
      ],
      "source": [
        "from sklearn.neighbors import KNeighborsClassifier\n",
        "\n",
        "# Initialize the KNN classifier with the best parameters\n",
        "best_knn_model = KNeighborsClassifier(n_neighbors=11, metric='hamming')\n",
        "\n",
        "# Train the final KNN model on the training data\n",
        "best_knn_model.fit(X_train1, y_train1)\n",
        "\n",
        "# Evaluate the performance of the final KNN model on the test data\n",
        "knn_accuracy = best_knn_model.score(X_test, y_test)\n",
        "print(\"Accuracy of the final KNN model:\", knn_accuracy)"
      ]
    },
    {
      "cell_type": "code",
      "execution_count": 12,
      "metadata": {
        "id": "6JIJ1CTZiiDV"
      },
      "outputs": [
        {
          "name": "stdout",
          "output_type": "stream",
          "text": [
            "Tačnost finalnog SVM modela: 0.791448275862069\n"
          ]
        }
      ],
      "source": [
        "from sklearn.svm import SVC\n",
        "\n",
        "# Initialize the SVM classifier with the best parameters\n",
        "best_svm_model = SVC(C=0.1, kernel='linear', gamma='scale')\n",
        "\n",
        "# Train the final SVM model on the training data\n",
        "best_svm_model.fit(X_train1, y_train1)\n",
        "\n",
        "# Evaluate the performance of the final SVM model on the test data\n",
        "svm_accuracy = best_svm_model.score(X_test, y_test)\n",
        "print(\"Accuracy of the final SVM model:\", svm_accuracy)"
      ]
    },
    {
      "cell_type": "code",
      "execution_count": 13,
      "metadata": {
        "id": "M6eA2ovLigtN"
      },
      "outputs": [
        {
          "name": "stdout",
          "output_type": "stream",
          "text": [
            "Tačnost finalnog logističkog modela: 0.791448275862069\n"
          ]
        }
      ],
      "source": [
        "from sklearn.discriminant_analysis import LinearDiscriminantAnalysis as LDA\n",
        "\n",
        "# Initialize the LDA classifier with the best parameters\n",
        "best_lda_model = LDA(solver='lsqr')\n",
        "\n",
        "# Train the final LDA model on the training data\n",
        "best_lda_model.fit(X_train1, y_train1)\n",
        "\n",
        "# Evaluate the performance of the final LDA model on the test data\n",
        "lda_accuracy = best_lda_model.score(X_test, y_test)\n",
        "print(\"Accuracy of the final LDA model:\", lda_accuracy)"
      ]
    },
    {
      "cell_type": "code",
      "execution_count": 14,
      "metadata": {},
      "outputs": [
        {
          "name": "stdout",
          "output_type": "stream",
          "text": [
            "Tacnost modela KNN na test skupu: 0.8173793103448276\n",
            "Tacnost modela SVM na test skupu: 0.791448275862069\n",
            "Tacnost modela LDA na test skupu: 0.791448275862069\n"
          ]
        }
      ],
      "source": [
        "# Evaluation of the best KNN model on the test set\n",
        "knn_test_score = best_knn_model.score(X_test, y_test)\n",
        "print(\"Accuracy of the KNN model on the test set:\", knn_test_score)\n",
        "\n",
        "# Evaluation of the best SVM model on the test set\n",
        "svm_test_score = best_svm_model.score(X_test, y_test)\n",
        "print(\"Accuracy of the SVM model on the test set:\", svm_test_score)\n",
        "\n",
        "# Evaluation of the best LDA model on the test set\n",
        "lda_test_score = best_lda_model.score(X_test, y_test)\n",
        "print(\"Accuracy of the LDA model on the test set:\", lda_test_score)"
      ]
    },
    {
      "cell_type": "code",
      "execution_count": 15,
      "metadata": {},
      "outputs": [
        {
          "data": {
            "image/png": "[encoded data removed]",
            "text/plain": [
              "<Figure size 1800x500 with 6 Axes>"
            ]
          },
          "metadata": {},
          "output_type": "display_data"
        }
      ],
      "source": [
        "from sklearn.metrics import confusion_matrix\n",
        "import matplotlib.pyplot as plt\n",
        "import seaborn as sns\n",
        "\n",
        "# Predictions using the best KNN model\n",
        "knn_pred = best_knn_model.predict(X_test)\n",
        "knn_conf_matrix = confusion_matrix(y_test, knn_pred)\n",
        "\n",
        "# Predictions using the best LDA model\n",
        "lda_pred = best_lda_model.predict(X_test)\n",
        "lda_conf_matrix = confusion_matrix(y_test, lda_pred)\n",
        "\n",
        "# Predictions using the best SVM model\n",
        "svm_pred = best_svm_model.predict(X_test)\n",
        "svm_conf_matrix = confusion_matrix(y_test, svm_pred)\n",
        "\n",
        "# Display confusion matrices\n",
        "fig, axes = plt.subplots(1, 3, figsize=(18, 5))\n",
        "\n",
        "# KNN confusion matrix\n",
        "sns.heatmap(knn_conf_matrix, annot=True, fmt='d', cmap=\"Blues\", ax=axes[0])\n",
        "axes[0].set_title('KNN Confusion Matrix')\n",
        "\n",
        "# LDA confusion matrix\n",
        "sns.heatmap(lda_conf_matrix, annot=True, fmt='d', cmap=\"Blues\", ax=axes[1])\n",
        "axes[1].set_title('LDA Confusion Matrix')\n",
        "\n",
        "# SVM confusion matrix\n",
        "sns.heatmap(svm_conf_matrix, annot=True, fmt='d', cmap=\"Blues\", ax=axes[2])\n",
        "axes[2].set_title('SVM Confusion Matrix')\n",
        "\n",
        "plt.show()"
      ]
    },
    {
      "cell_type": "code",
      "execution_count": 16,
      "metadata": {},
      "outputs": [
        {
          "data": {
            "image/png": "[encoded data removed]",
            "text/plain": [
              "<Figure size 1000x600 with 1 Axes>"
            ]
          },
          "metadata": {},
          "output_type": "display_data"
        }
      ],
      "source": [
        "import numpy as np\n",
        "from sklearn.metrics import accuracy_score\n",
        "\n",
        "# Calculating model accuracies\n",
        "accuracy_knn = accuracy_score(y_test, knn_pred)\n",
        "accuracy_lda = accuracy_score(y_test, lda_pred)\n",
        "accuracy_svm = accuracy_score(y_test, svm_pred)\n",
        "\n",
        "accuracies = [accuracy_knn, accuracy_lda, accuracy_svm]\n",
        "models = ['KNN', 'LDA', 'SVM']\n",
        "\n",
        "# Creating a bar chart\n",
        "plt.figure(figsize=(10, 6))\n",
        "plt.bar(models, accuracies, color=['blue', 'green', 'orange'])\n",
        "\n",
        "# Adding title and labels\n",
        "plt.title('Comparison of Model Accuracies')\n",
        "plt.xlabel('Models')\n",
        "plt.ylabel('Accuracy')\n",
        "\n",
        "# Displaying values above the bars\n",
        "for index, value in enumerate(accuracies):\n",
        "    plt.text(index, value, str(round(value, 3)), ha='center', va='bottom')\n",
        "\n",
        "# Displaying the chart\n",
        "plt.ylim(0, 1)\n",
        "plt.show()"
      ]
    }
  ],
  "metadata": {
    "colab": {
      "provenance": []
    },
    "kernelspec": {
      "display_name": "Python 3",
      "name": "python3"
    },
    "language_info": {
      "codemirror_mode": {
        "name": "ipython",
        "version": 3
      },
      "file_extension": ".py",
      "mimetype": "text/x-python",
      "name": "python",
      "nbconvert_exporter": "python",
      "pygments_lexer": "ipython3",
      "version": "3.12.0"
    }
  },
  "nbformat": 4,
  "nbformat_minor": 0
}
